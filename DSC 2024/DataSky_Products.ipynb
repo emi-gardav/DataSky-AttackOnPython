{
  "nbformat": 4,
  "nbformat_minor": 0,
  "metadata": {
    "colab": {
      "provenance": [],
      "toc_visible": true
    },
    "kernelspec": {
      "name": "python3",
      "display_name": "Python 3"
    },
    "language_info": {
      "name": "python"
    }
  },
  "cells": [
    {
      "cell_type": "markdown",
      "source": [
        "### VIVA-DataSky\n"
      ],
      "metadata": {
        "id": "nMVani1VknYa"
      }
    },
    {
      "cell_type": "code",
      "source": [
        "#%% MODULES\n",
        "import pandas as pd\n",
        "import numpy as np\n",
        "from sklearn.model_selection import train_test_split\n",
        "from sklearn.preprocessing import OneHotEncoder\n",
        "from sklearn.linear_model import LogisticRegression\n",
        "from sklearn.metrics import classification_report"
      ],
      "metadata": {
        "id": "nVUVi4afu-T_"
      },
      "execution_count": null,
      "outputs": []
    },
    {
      "cell_type": "code",
      "execution_count": null,
      "metadata": {
        "id": "9SyxiS1ku6e_"
      },
      "outputs": [],
      "source": [
        "#%%\n",
        "# FIRST MODEL FOR GETTING WHICH PRODUCT TYPES CORRESPOND TO THE FLIGHT\n",
        "# STEP 1: Preprocessing data\n",
        "data = pd.read_csv('Flights and Sales.csv')\n",
        "#%%\n",
        "# STEP 2: Transforming categorical variables to numerical using One-Hot Encoding\n",
        "data_encoded = pd.get_dummies(data, columns=['PRODUCTTYPE', 'DESTINATION_TYPE'])\n",
        "data_encoded = data_encoded[~data_encoded[\"PASSENGERS\"].isna()] # Excluding all 2024 flights\n",
        "#%%\n",
        "columns_to_predict = [\"PRODUCTTYPE_\"+x for x in list(set(data[\"PRODUCTTYPE\"].values.tolist()))] # All One-Hot Encoding columns to iterate and predicted\n",
        "differences = [ ] # For saving the discrepancies between the actual value and the predicted value\n",
        "\n",
        "for column in columns_to_predict:\n",
        "    # STEP 3: Setting our features (X) - Only numerical columns\n",
        "    X = data_encoded.drop(columns=[column, 'AERONAVE', 'FLIGHT_ID', \"PRODUCTNAME\", \"DEPARTURESTATION\", \"FECHA_SALIDA\"])\n",
        "    # STEP 4: Setting our target variable for predicting\n",
        "    y = data_encoded[column]\n",
        "\n",
        "    # STEP 5: Splitting Training (80%) and Testing (20%) dataset\n",
        "    X_train, X_test, y_train, y_test = train_test_split(X, y, test_size=0.2, random_state=42)\n",
        "\n",
        "    # STEP 6: Creating and training logistic regression model with the required iterations and training data\n",
        "    model = LogisticRegression(max_iter=1000)\n",
        "    model.fit(X_train, y_train)\n",
        "\n",
        "    # STEP 7: Making the prediction for the target variable\n",
        "    y_pred = model.predict(X_test)\n",
        "\n",
        "    # STEP 8: Setting metrics for analyzing results\n",
        "    differences.append([(a, b) for a, b in zip(y_test, y_pred) if a != b]) # Saving differences to a list for analysis comparison\n",
        "    print(f\"Classification Report for {column}:\")\n",
        "    print(classification_report(y_test, y_pred))\n",
        "    print(f'Accuracy: {model.score(X_test, y_test)}')"
      ]
    },
    {
      "cell_type": "code",
      "source": [
        "\n",
        "# SECOND MODEL FOR GETTING THE QUANTITY FOR EACH PRODUCT\n",
        "# Using Gradient Boosting Model boosting performance with decision trees.\n",
        "from sklearn.ensemble import GradientBoostingRegressor\n",
        "from sklearn.model_selection import train_test_split\n",
        "from sklearn.metrics import mean_squared_error\n",
        "#%%\n",
        "# STEP 1 : Getting the data\n",
        "# STEP 2 : Setting features (numerical variables) and target variable\n",
        "featureColumns = data_encoded.drop(columns=[ 'PRODUCTTYPE_Antros', 'PRODUCTTYPE_Bebidas Calientes', 'PRODUCTTYPE_Botanas', 'PRODUCTTYPE_Galletas',\n",
        "                                'PRODUCTTYPE_Lacteos', 'PRODUCTTYPE_Licores', 'PRODUCTTYPE_Perecederos', 'PRODUCTTYPE_Refrescos', 'PRODUCTTYPE_Sopas',\n",
        "                               'AERONAVE', 'FLIGHT_ID', \"PRODUCTNAME\", \"DEPARTURESTATION\", \"FECHA_SALIDA\"])\n",
        "X = featureColumns\n",
        "y = data_encoded[\"QUANTITY\"]\n",
        "# STEP 3: Splitting training and testing data\n",
        "X_train, X_test, y_train, y_test = train_test_split(X, y, test_size=0.2, random_state=42)\n",
        "#%%\n",
        "# predictsFor2024 = data_encoded[data_encoded[\"PASSENGERS\"].isna()] # Excluding all 2024 flights\n",
        "#%%\n",
        "# STEP 4 : Defining and training the Gradient Boosting model\n",
        "gb_regressor = GradientBoostingRegressor(n_estimators=100, learning_rate=0.1, max_depth=3, random_state=42)\n",
        "gb_regressor.fit(X_train, y_train)\n",
        "#%%\n",
        "# STEP 5: Predicting the target variable\n",
        "y_pred = gb_regressor.predict(X_test)\n",
        "#%%\n",
        "# STEP 6 : Processing predicted data for more accuracy\n",
        "y_pred_rounded = np.round(y_pred)\n",
        "print(\"Rounded Predictions:\", y_pred_rounded)\n",
        "#%%\n",
        "# STEP 7: Evaluating model's perfomance\n",
        "mse = mean_squared_error(y_test, y_pred_rounded)\n",
        "print(\"Mean Squared Error:\", mse)\n",
        "# %%\n",
        "# READING INPUT FLIGHTS\n",
        "data = pd.read_csv('predicciones_2024.csv')\n",
        "# %%\n",
        "# PREPROCESSING DATA FOR MODEL\n",
        "data[\"PASSENGERS\"] = 0\n",
        "data[\"QUANTITY\"] = 0\n",
        "data = pd.get_dummies(data, columns=['DESTINATION_TYPE'])\n",
        "missing_columns = ['DESTINATION_TYPE_Ciudad Fronteriza', 'DESTINATION_TYPE_Ciudad Principal', 'DESTINATION_TYPE_Ecoturismo', 'DESTINATION_TYPE_MX Amigos y Familia', 'DESTINATION_TYPE_Playa']\n",
        "for column in missing_columns:\n",
        "    if column not in data.columns:\n",
        "        data[column] = 0\n",
        "data = data[featureColumns.columns]\n",
        "#%%\n",
        "# PREDICTING 5 DAYS FOR 2024\n",
        "y_pred = gb_regressor.predict(data)\n",
        "# %%"
      ],
      "metadata": {
        "id": "XhaGtVanvON-"
      },
      "execution_count": null,
      "outputs": []
    }
  ]
}